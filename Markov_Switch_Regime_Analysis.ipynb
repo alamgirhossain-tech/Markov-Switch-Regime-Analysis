{
  "cells": [
    {
      "cell_type": "markdown",
      "source": [
        "The main assumption of the AR approach is that the mean and variance of the time series remains constant. We may consider this to be a single regime in terms of mean and variance. In reality time series do not always present with constant regimes and series are often observed changing regimes. This necessitates the understanding and detection of underlying regimes to improve forecasting techniques."
      ],
      "metadata": {
        "id": "Vqw7YKNEwPaP"
      },
      "id": "Vqw7YKNEwPaP"
    },
    {
      "cell_type": "markdown",
      "source": [
        "There are a variety of approaches to understanding time series regimes. The approach presented in this Notebook is the use of a Markov Switching Autoregressive model for regime detection and classification. Furthermore, machine learning is explored for providing an expectation of the next day’s regime."
      ],
      "metadata": {
        "id": "-UaMM8Bfv-Dk"
      },
      "id": "-UaMM8Bfv-Dk"
    },
    {
      "cell_type": "markdown",
      "source": [
        "**Markov Switching Autoregression**\n",
        "\n",
        "A Markov Switching model is a popular regime-switching model that rests on the assumption that unobserved states are determined by an underlying stochastic process known as a Markov-chain. A Markov-chain is a system describing possible events in which the probability of each event depends only on the state attained in the previous event. "
      ],
      "metadata": {
        "id": "RZ0Acg8awwFZ"
      },
      "id": "RZ0Acg8awwFZ"
    },
    {
      "cell_type": "code",
      "source": [
        "#!pip install yfinance"
      ],
      "metadata": {
        "colab": {
          "base_uri": "https://localhost:8080/"
        },
        "id": "6cyKH7NU5nUe",
        "outputId": "068f71bb-a781-43c9-b9b8-fe9bd9778f99"
      },
      "id": "6cyKH7NU5nUe",
      "execution_count": 1,
      "outputs": [
        {
          "output_type": "stream",
          "name": "stdout",
          "text": [
            "Looking in indexes: https://pypi.org/simple, https://us-python.pkg.dev/colab-wheels/public/simple/\n",
            "Collecting yfinance\n",
            "  Downloading yfinance-0.1.84-py2.py3-none-any.whl (29 kB)\n",
            "Collecting requests>=2.26\n",
            "  Downloading requests-2.28.1-py3-none-any.whl (62 kB)\n",
            "\u001b[K     |████████████████████████████████| 62 kB 1.3 MB/s \n",
            "\u001b[?25hRequirement already satisfied: lxml>=4.5.1 in /usr/local/lib/python3.7/dist-packages (from yfinance) (4.9.1)\n",
            "Requirement already satisfied: pandas>=0.24.0 in /usr/local/lib/python3.7/dist-packages (from yfinance) (1.3.5)\n",
            "Requirement already satisfied: numpy>=1.15 in /usr/local/lib/python3.7/dist-packages (from yfinance) (1.21.6)\n",
            "Requirement already satisfied: appdirs>=1.4.4 in /usr/local/lib/python3.7/dist-packages (from yfinance) (1.4.4)\n",
            "Requirement already satisfied: multitasking>=0.0.7 in /usr/local/lib/python3.7/dist-packages (from yfinance) (0.0.11)\n",
            "Requirement already satisfied: python-dateutil>=2.7.3 in /usr/local/lib/python3.7/dist-packages (from pandas>=0.24.0->yfinance) (2.8.2)\n",
            "Requirement already satisfied: pytz>=2017.3 in /usr/local/lib/python3.7/dist-packages (from pandas>=0.24.0->yfinance) (2022.5)\n",
            "Requirement already satisfied: six>=1.5 in /usr/local/lib/python3.7/dist-packages (from python-dateutil>=2.7.3->pandas>=0.24.0->yfinance) (1.15.0)\n",
            "Requirement already satisfied: certifi>=2017.4.17 in /usr/local/lib/python3.7/dist-packages (from requests>=2.26->yfinance) (2022.9.24)\n",
            "Requirement already satisfied: charset-normalizer<3,>=2 in /usr/local/lib/python3.7/dist-packages (from requests>=2.26->yfinance) (2.1.1)\n",
            "Requirement already satisfied: idna<4,>=2.5 in /usr/local/lib/python3.7/dist-packages (from requests>=2.26->yfinance) (2.10)\n",
            "Requirement already satisfied: urllib3<1.27,>=1.21.1 in /usr/local/lib/python3.7/dist-packages (from requests>=2.26->yfinance) (1.24.3)\n",
            "Installing collected packages: requests, yfinance\n",
            "  Attempting uninstall: requests\n",
            "    Found existing installation: requests 2.23.0\n",
            "    Uninstalling requests-2.23.0:\n",
            "      Successfully uninstalled requests-2.23.0\n",
            "Successfully installed requests-2.28.1 yfinance-0.1.84\n"
          ]
        }
      ]
    },
    {
      "cell_type": "markdown",
      "id": "cad82317",
      "metadata": {
        "id": "cad82317"
      },
      "source": [
        "# Time Series Regime Analysis\n",
        "\n",
        "This notebook explores time series regime analysis in python. Markov Switching Autoregressions (MS-AR) are used to detect and classify underlying states. A Random Forest Classifier is used to predict the next regime."
      ]
    },
    {
      "cell_type": "code",
      "execution_count": 2,
      "id": "15d08823",
      "metadata": {
        "id": "15d08823"
      },
      "outputs": [],
      "source": [
        "import pandas as pd\n",
        "import statsmodels.api as sm\n",
        "import matplotlib.pyplot as plt\n",
        "import seaborn as sns\n",
        "import numpy as np\n",
        "import yfinance as yf\n",
        "import pandas as pd\n",
        "import random\n",
        "\n",
        "import numpy as np\n",
        "import scipy.stats as scs\n",
        "\n",
        "from sklearn.model_selection import train_test_split\n",
        "from sklearn.ensemble import RandomForestClassifier\n",
        "from sklearn.inspection import permutation_importance\n",
        "from sklearn.metrics import accuracy_score, confusion_matrix, roc_curve, auc\n",
        "from collections import Counter, deque\n",
        "from imblearn.under_sampling import RandomUnderSampler"
      ]
    },
    {
      "cell_type": "markdown",
      "source": [
        "The first section deals with the MS-AR implementation for regime detection and classification. The second section deals with the machine learning, Random Forest Classifier, implementation for the prediction of the next regime."
      ],
      "metadata": {
        "id": "eO4U5yWXxLaj"
      },
      "id": "eO4U5yWXxLaj"
    },
    {
      "cell_type": "markdown",
      "id": "40d7050a",
      "metadata": {
        "id": "40d7050a"
      },
      "source": [
        "## MS-AR"
      ]
    },
    {
      "cell_type": "markdown",
      "id": "a6318940",
      "metadata": {
        "id": "a6318940"
      },
      "source": [
        "Importing our NASDAQ 100 dataset from Yahoo Finance, using the yfinance library. Displaying the data in a dataframe."
      ]
    },
    {
      "cell_type": "code",
      "execution_count": 3,
      "id": "e4da8e3c",
      "metadata": {
        "colab": {
          "base_uri": "https://localhost:8080/",
          "height": 255
        },
        "id": "e4da8e3c",
        "outputId": "4b40d7f6-0a83-4b06-c338-d9f9c6673ad7"
      },
      "outputs": [
        {
          "output_type": "stream",
          "name": "stdout",
          "text": [
            "\r[*********************100%***********************]  1 of 1 completed\n"
          ]
        },
        {
          "output_type": "execute_result",
          "data": {
            "text/plain": [
              "                   Open         High          Low        Close    Adj Close  \\\n",
              "Date                                                                          \n",
              "2010-01-04  1882.689941  1890.020020  1881.630005  1886.699951  1886.699951   \n",
              "2010-01-05  1887.280029  1891.329956  1877.520020  1888.430054  1888.430054   \n",
              "2010-01-06  1887.910034  1893.209961  1873.900024  1878.420044  1878.420044   \n",
              "2010-01-07  1878.160034  1881.329956  1867.619995  1876.719971  1876.719971   \n",
              "2010-01-08  1870.900024  1893.250000  1868.550049  1892.589966  1892.589966   \n",
              "\n",
              "                Volume  \n",
              "Date                    \n",
              "2010-01-04  1931380000  \n",
              "2010-01-05  2367860000  \n",
              "2010-01-06  2253340000  \n",
              "2010-01-07  2270050000  \n",
              "2010-01-08  2145390000  "
            ],
            "text/html": [
              "\n",
              "  <div id=\"df-01557cf3-87e2-432b-9f90-72e52cb08906\">\n",
              "    <div class=\"colab-df-container\">\n",
              "      <div>\n",
              "<style scoped>\n",
              "    .dataframe tbody tr th:only-of-type {\n",
              "        vertical-align: middle;\n",
              "    }\n",
              "\n",
              "    .dataframe tbody tr th {\n",
              "        vertical-align: top;\n",
              "    }\n",
              "\n",
              "    .dataframe thead th {\n",
              "        text-align: right;\n",
              "    }\n",
              "</style>\n",
              "<table border=\"1\" class=\"dataframe\">\n",
              "  <thead>\n",
              "    <tr style=\"text-align: right;\">\n",
              "      <th></th>\n",
              "      <th>Open</th>\n",
              "      <th>High</th>\n",
              "      <th>Low</th>\n",
              "      <th>Close</th>\n",
              "      <th>Adj Close</th>\n",
              "      <th>Volume</th>\n",
              "    </tr>\n",
              "    <tr>\n",
              "      <th>Date</th>\n",
              "      <th></th>\n",
              "      <th></th>\n",
              "      <th></th>\n",
              "      <th></th>\n",
              "      <th></th>\n",
              "      <th></th>\n",
              "    </tr>\n",
              "  </thead>\n",
              "  <tbody>\n",
              "    <tr>\n",
              "      <th>2010-01-04</th>\n",
              "      <td>1882.689941</td>\n",
              "      <td>1890.020020</td>\n",
              "      <td>1881.630005</td>\n",
              "      <td>1886.699951</td>\n",
              "      <td>1886.699951</td>\n",
              "      <td>1931380000</td>\n",
              "    </tr>\n",
              "    <tr>\n",
              "      <th>2010-01-05</th>\n",
              "      <td>1887.280029</td>\n",
              "      <td>1891.329956</td>\n",
              "      <td>1877.520020</td>\n",
              "      <td>1888.430054</td>\n",
              "      <td>1888.430054</td>\n",
              "      <td>2367860000</td>\n",
              "    </tr>\n",
              "    <tr>\n",
              "      <th>2010-01-06</th>\n",
              "      <td>1887.910034</td>\n",
              "      <td>1893.209961</td>\n",
              "      <td>1873.900024</td>\n",
              "      <td>1878.420044</td>\n",
              "      <td>1878.420044</td>\n",
              "      <td>2253340000</td>\n",
              "    </tr>\n",
              "    <tr>\n",
              "      <th>2010-01-07</th>\n",
              "      <td>1878.160034</td>\n",
              "      <td>1881.329956</td>\n",
              "      <td>1867.619995</td>\n",
              "      <td>1876.719971</td>\n",
              "      <td>1876.719971</td>\n",
              "      <td>2270050000</td>\n",
              "    </tr>\n",
              "    <tr>\n",
              "      <th>2010-01-08</th>\n",
              "      <td>1870.900024</td>\n",
              "      <td>1893.250000</td>\n",
              "      <td>1868.550049</td>\n",
              "      <td>1892.589966</td>\n",
              "      <td>1892.589966</td>\n",
              "      <td>2145390000</td>\n",
              "    </tr>\n",
              "  </tbody>\n",
              "</table>\n",
              "</div>\n",
              "      <button class=\"colab-df-convert\" onclick=\"convertToInteractive('df-01557cf3-87e2-432b-9f90-72e52cb08906')\"\n",
              "              title=\"Convert this dataframe to an interactive table.\"\n",
              "              style=\"display:none;\">\n",
              "        \n",
              "  <svg xmlns=\"http://www.w3.org/2000/svg\" height=\"24px\"viewBox=\"0 0 24 24\"\n",
              "       width=\"24px\">\n",
              "    <path d=\"M0 0h24v24H0V0z\" fill=\"none\"/>\n",
              "    <path d=\"M18.56 5.44l.94 2.06.94-2.06 2.06-.94-2.06-.94-.94-2.06-.94 2.06-2.06.94zm-11 1L8.5 8.5l.94-2.06 2.06-.94-2.06-.94L8.5 2.5l-.94 2.06-2.06.94zm10 10l.94 2.06.94-2.06 2.06-.94-2.06-.94-.94-2.06-.94 2.06-2.06.94z\"/><path d=\"M17.41 7.96l-1.37-1.37c-.4-.4-.92-.59-1.43-.59-.52 0-1.04.2-1.43.59L10.3 9.45l-7.72 7.72c-.78.78-.78 2.05 0 2.83L4 21.41c.39.39.9.59 1.41.59.51 0 1.02-.2 1.41-.59l7.78-7.78 2.81-2.81c.8-.78.8-2.07 0-2.86zM5.41 20L4 18.59l7.72-7.72 1.47 1.35L5.41 20z\"/>\n",
              "  </svg>\n",
              "      </button>\n",
              "      \n",
              "  <style>\n",
              "    .colab-df-container {\n",
              "      display:flex;\n",
              "      flex-wrap:wrap;\n",
              "      gap: 12px;\n",
              "    }\n",
              "\n",
              "    .colab-df-convert {\n",
              "      background-color: #E8F0FE;\n",
              "      border: none;\n",
              "      border-radius: 50%;\n",
              "      cursor: pointer;\n",
              "      display: none;\n",
              "      fill: #1967D2;\n",
              "      height: 32px;\n",
              "      padding: 0 0 0 0;\n",
              "      width: 32px;\n",
              "    }\n",
              "\n",
              "    .colab-df-convert:hover {\n",
              "      background-color: #E2EBFA;\n",
              "      box-shadow: 0px 1px 2px rgba(60, 64, 67, 0.3), 0px 1px 3px 1px rgba(60, 64, 67, 0.15);\n",
              "      fill: #174EA6;\n",
              "    }\n",
              "\n",
              "    [theme=dark] .colab-df-convert {\n",
              "      background-color: #3B4455;\n",
              "      fill: #D2E3FC;\n",
              "    }\n",
              "\n",
              "    [theme=dark] .colab-df-convert:hover {\n",
              "      background-color: #434B5C;\n",
              "      box-shadow: 0px 1px 3px 1px rgba(0, 0, 0, 0.15);\n",
              "      filter: drop-shadow(0px 1px 2px rgba(0, 0, 0, 0.3));\n",
              "      fill: #FFFFFF;\n",
              "    }\n",
              "  </style>\n",
              "\n",
              "      <script>\n",
              "        const buttonEl =\n",
              "          document.querySelector('#df-01557cf3-87e2-432b-9f90-72e52cb08906 button.colab-df-convert');\n",
              "        buttonEl.style.display =\n",
              "          google.colab.kernel.accessAllowed ? 'block' : 'none';\n",
              "\n",
              "        async function convertToInteractive(key) {\n",
              "          const element = document.querySelector('#df-01557cf3-87e2-432b-9f90-72e52cb08906');\n",
              "          const dataTable =\n",
              "            await google.colab.kernel.invokeFunction('convertToInteractive',\n",
              "                                                     [key], {});\n",
              "          if (!dataTable) return;\n",
              "\n",
              "          const docLinkHtml = 'Like what you see? Visit the ' +\n",
              "            '<a target=\"_blank\" href=https://colab.research.google.com/notebooks/data_table.ipynb>data table notebook</a>'\n",
              "            + ' to learn more about interactive tables.';\n",
              "          element.innerHTML = '';\n",
              "          dataTable['output_type'] = 'display_data';\n",
              "          await google.colab.output.renderOutput(dataTable, element);\n",
              "          const docLink = document.createElement('div');\n",
              "          docLink.innerHTML = docLinkHtml;\n",
              "          element.appendChild(docLink);\n",
              "        }\n",
              "      </script>\n",
              "    </div>\n",
              "  </div>\n",
              "  "
            ]
          },
          "metadata": {},
          "execution_count": 3
        }
      ],
      "source": [
        "df = yf.download('^NDX', start=\"2010-01-01\", end=\"2022-10-01\", interval=\"1d\")\n",
        "df.head()"
      ]
    },
    {
      "cell_type": "markdown",
      "id": "601ddd29",
      "metadata": {
        "id": "601ddd29"
      },
      "source": [
        "----------------------------------------------------------------\n",
        "Plotting the adjusted close price to visualize the time series."
      ]
    },
    {
      "cell_type": "code",
      "execution_count": 4,
      "id": "fce87e3f",
      "metadata": {
        "colab": {
          "base_uri": "https://localhost:8080/",
          "height": 281
        },
        "id": "fce87e3f",
        "outputId": "58e61e02-bc48-4809-a35b-2c5337332696"
      },
      "outputs": [
        {
          "output_type": "display_data",
          "data": {
            "text/plain": [
              "<Figure size 432x288 with 1 Axes>"
            ],
            "image/png": "[encoded data removed]"
          },
          "metadata": {
            "needs_background": "light"
          }
        }
      ],
      "source": [
        "plt.title(f'NASDAQ 100 price History')\n",
        "plt.plot(\n",
        "    list(i for i in df.index),\n",
        "    list(i[4] for i in df.values))\n",
        "plt.grid(False)"
      ]
    },
    {
      "cell_type": "markdown",
      "id": "bc3c62b1",
      "metadata": {
        "id": "bc3c62b1"
      },
      "source": [
        "------------------------\n",
        "Creating and plotting price returns. Price returns are just the percentage change in price over 1 day."
      ]
    },
    {
      "cell_type": "code",
      "execution_count": 5,
      "id": "254ce960",
      "metadata": {
        "colab": {
          "base_uri": "https://localhost:8080/",
          "height": 253
        },
        "id": "254ce960",
        "outputId": "e453154c-7cc3-4987-c1b7-04e092b2ed85"
      },
      "outputs": [
        {
          "output_type": "execute_result",
          "data": {
            "text/plain": [
              "<matplotlib.axes._subplots.AxesSubplot at 0x7f958d2a1450>"
            ]
          },
          "metadata": {},
          "execution_count": 5
        },
        {
          "output_type": "display_data",
          "data": {
            "text/plain": [
              "<Figure size 864x216 with 1 Axes>"
            ],
            "image/png": "[encoded data removed]"
          },
          "metadata": {
            "needs_background": "light"
          }
        }
      ],
      "source": [
        "df['r-1'] = df['Adj Close'].pct_change().dropna()\n",
        "\n",
        "ex_ret = df['r-1']\n",
        "ex_ret.plot(title='Excess returns', figsize=(12, 3), grid=False)"
      ]
    },
    {
      "cell_type": "markdown",
      "source": [
        "It shows in 2020 significant volatility during the covid -19 time"
      ],
      "metadata": {
        "id": "7nzdeoWlxicY"
      },
      "id": "7nzdeoWlxicY"
    },
    {
      "cell_type": "markdown",
      "id": "fb96796a",
      "metadata": {
        "id": "fb96796a"
      },
      "source": [
        "---------------------\n",
        "Fitting the Markov regression model and viewing a summary output."
      ]
    },
    {
      "cell_type": "code",
      "execution_count": 6,
      "id": "878eae91",
      "metadata": {
        "colab": {
          "base_uri": "https://localhost:8080/",
          "height": 518
        },
        "id": "878eae91",
        "outputId": "ffbe032e-e512-4849-edd5-a0d35480ecc2"
      },
      "outputs": [
        {
          "output_type": "stream",
          "name": "stderr",
          "text": [
            "/usr/local/lib/python3.7/dist-packages/statsmodels/tsa/base/tsa_model.py:583: ValueWarning: A date index has been provided, but it has no associated frequency information and so will be ignored when e.g. forecasting.\n",
            "  ' ignored when e.g. forecasting.', ValueWarning)\n"
          ]
        },
        {
          "output_type": "execute_result",
          "data": {
            "text/plain": [
              "<class 'statsmodels.iolib.summary.Summary'>\n",
              "\"\"\"\n",
              "                        Markov Switching Model Results                        \n",
              "==============================================================================\n",
              "Dep. Variable:                    r-1   No. Observations:                 3208\n",
              "Model:               MarkovRegression   Log Likelihood                9874.471\n",
              "Date:                Fri, 28 Oct 2022   AIC                         -19740.942\n",
              "Time:                        03:54:43   BIC                         -19716.648\n",
              "Sample:                             0   HQIC                        -19732.233\n",
              "                               - 3208                                         \n",
              "Covariance Type:               approx                                         \n",
              "                             Regime 0 parameters                              \n",
              "==============================================================================\n",
              "                 coef    std err          z      P>|z|      [0.025      0.975]\n",
              "------------------------------------------------------------------------------\n",
              "sigma2      6.562e-05   3.36e-06     19.546      0.000     5.9e-05    7.22e-05\n",
              "                             Regime 1 parameters                              \n",
              "==============================================================================\n",
              "                 coef    std err          z      P>|z|      [0.025      0.975]\n",
              "------------------------------------------------------------------------------\n",
              "sigma2         0.0004   2.64e-05     15.825      0.000       0.000       0.000\n",
              "                         Regime transition parameters                         \n",
              "==============================================================================\n",
              "                 coef    std err          z      P>|z|      [0.025      0.975]\n",
              "------------------------------------------------------------------------------\n",
              "p[0->0]        0.9864      0.003    283.463      0.000       0.980       0.993\n",
              "p[1->0]        0.0315      0.008      4.030      0.000       0.016       0.047\n",
              "==============================================================================\n",
              "\n",
              "Warnings:\n",
              "[1] Covariance matrix calculated using numerical (complex-step) differentiation.\n",
              "\"\"\""
            ],
            "text/html": [
              "<table class=\"simpletable\">\n",
              "<caption>Markov Switching Model Results</caption>\n",
              "<tr>\n",
              "  <th>Dep. Variable:</th>          <td>r-1</td>       <th>  No. Observations:  </th>    <td>3208</td>   \n",
              "</tr>\n",
              "<tr>\n",
              "  <th>Model:</th>           <td>MarkovRegression</td> <th>  Log Likelihood     </th>  <td>9874.471</td> \n",
              "</tr>\n",
              "<tr>\n",
              "  <th>Date:</th>            <td>Fri, 28 Oct 2022</td> <th>  AIC                </th> <td>-19740.942</td>\n",
              "</tr>\n",
              "<tr>\n",
              "  <th>Time:</th>                <td>03:54:43</td>     <th>  BIC                </th> <td>-19716.648</td>\n",
              "</tr>\n",
              "<tr>\n",
              "  <th>Sample:</th>                  <td>0</td>        <th>  HQIC               </th> <td>-19732.233</td>\n",
              "</tr>\n",
              "<tr>\n",
              "  <th></th>                      <td> - 3208</td>     <th>                     </th>      <td> </td>    \n",
              "</tr>\n",
              "<tr>\n",
              "  <th>Covariance Type:</th>      <td>approx</td>      <th>                     </th>      <td> </td>    \n",
              "</tr>\n",
              "</table>\n",
              "<table class=\"simpletable\">\n",
              "<caption>Regime 0 parameters</caption>\n",
              "<tr>\n",
              "     <td></td>       <th>coef</th>     <th>std err</th>      <th>z</th>      <th>P>|z|</th>  <th>[0.025</th>    <th>0.975]</th>  \n",
              "</tr>\n",
              "<tr>\n",
              "  <th>sigma2</th> <td> 6.562e-05</td> <td> 3.36e-06</td> <td>   19.546</td> <td> 0.000</td> <td>  5.9e-05</td> <td> 7.22e-05</td>\n",
              "</tr>\n",
              "</table>\n",
              "<table class=\"simpletable\">\n",
              "<caption>Regime 1 parameters</caption>\n",
              "<tr>\n",
              "     <td></td>       <th>coef</th>     <th>std err</th>      <th>z</th>      <th>P>|z|</th>  <th>[0.025</th>    <th>0.975]</th>  \n",
              "</tr>\n",
              "<tr>\n",
              "  <th>sigma2</th> <td>    0.0004</td> <td> 2.64e-05</td> <td>   15.825</td> <td> 0.000</td> <td>    0.000</td> <td>    0.000</td>\n",
              "</tr>\n",
              "</table>\n",
              "<table class=\"simpletable\">\n",
              "<caption>Regime transition parameters</caption>\n",
              "<tr>\n",
              "     <td></td>        <th>coef</th>     <th>std err</th>      <th>z</th>      <th>P>|z|</th>  <th>[0.025</th>    <th>0.975]</th>  \n",
              "</tr>\n",
              "<tr>\n",
              "  <th>p[0->0]</th> <td>    0.9864</td> <td>    0.003</td> <td>  283.463</td> <td> 0.000</td> <td>    0.980</td> <td>    0.993</td>\n",
              "</tr>\n",
              "<tr>\n",
              "  <th>p[1->0]</th> <td>    0.0315</td> <td>    0.008</td> <td>    4.030</td> <td> 0.000</td> <td>    0.016</td> <td>    0.047</td>\n",
              "</tr>\n",
              "</table><br/><br/>Warnings:<br/>[1] Covariance matrix calculated using numerical (complex-step) differentiation."
            ]
          },
          "metadata": {},
          "execution_count": 6
        }
      ],
      "source": [
        "# Fit the model\n",
        "mod_kns = sm.tsa.MarkovRegression(ex_ret.dropna(), k_regimes=2, trend='n', switching_variance=True)\n",
        "res_kns = mod_kns.fit()\n",
        "res_kns.summary()"
      ]
    },
    {
      "cell_type": "markdown",
      "id": "dea31ae1",
      "metadata": {
        "id": "dea31ae1"
      },
      "source": [
        "-----------------\n",
        "Viewing the smoothed probabilistic outputs from the fitted model. These are the models regime classifications on the dataset fitted. These probabilities are then plotted."
      ]
    },
    {
      "cell_type": "code",
      "execution_count": 7,
      "id": "b7402591",
      "metadata": {
        "colab": {
          "base_uri": "https://localhost:8080/",
          "height": 238
        },
        "id": "b7402591",
        "outputId": "6b538799-be0d-45d6-c5ae-7faf0bbbb940"
      },
      "outputs": [
        {
          "output_type": "execute_result",
          "data": {
            "text/plain": [
              "                   0         1\n",
              "Date                          \n",
              "2010-01-05  0.936641  0.063359\n",
              "2010-01-06  0.936989  0.063011\n",
              "2010-01-07  0.929687  0.070313\n",
              "2010-01-08  0.905970  0.094030\n",
              "2010-01-11  0.866870  0.133130"
            ],
            "text/html": [
              "\n",
              "  <div id=\"df-2e91c1a4-3827-4462-acf4-c001c4bcd083\">\n",
              "    <div class=\"colab-df-container\">\n",
              "      <div>\n",
              "<style scoped>\n",
              "    .dataframe tbody tr th:only-of-type {\n",
              "        vertical-align: middle;\n",
              "    }\n",
              "\n",
              "    .dataframe tbody tr th {\n",
              "        vertical-align: top;\n",
              "    }\n",
              "\n",
              "    .dataframe thead th {\n",
              "        text-align: right;\n",
              "    }\n",
              "</style>\n",
              "<table border=\"1\" class=\"dataframe\">\n",
              "  <thead>\n",
              "    <tr style=\"text-align: right;\">\n",
              "      <th></th>\n",
              "      <th>0</th>\n",
              "      <th>1</th>\n",
              "    </tr>\n",
              "    <tr>\n",
              "      <th>Date</th>\n",
              "      <th></th>\n",
              "      <th></th>\n",
              "    </tr>\n",
              "  </thead>\n",
              "  <tbody>\n",
              "    <tr>\n",
              "      <th>2010-01-05</th>\n",
              "      <td>0.936641</td>\n",
              "      <td>0.063359</td>\n",
              "    </tr>\n",
              "    <tr>\n",
              "      <th>2010-01-06</th>\n",
              "      <td>0.936989</td>\n",
              "      <td>0.063011</td>\n",
              "    </tr>\n",
              "    <tr>\n",
              "      <th>2010-01-07</th>\n",
              "      <td>0.929687</td>\n",
              "      <td>0.070313</td>\n",
              "    </tr>\n",
              "    <tr>\n",
              "      <th>2010-01-08</th>\n",
              "      <td>0.905970</td>\n",
              "      <td>0.094030</td>\n",
              "    </tr>\n",
              "    <tr>\n",
              "      <th>2010-01-11</th>\n",
              "      <td>0.866870</td>\n",
              "      <td>0.133130</td>\n",
              "    </tr>\n",
              "  </tbody>\n",
              "</table>\n",
              "</div>\n",
              "      <button class=\"colab-df-convert\" onclick=\"convertToInteractive('df-2e91c1a4-3827-4462-acf4-c001c4bcd083')\"\n",
              "              title=\"Convert this dataframe to an interactive table.\"\n",
              "              style=\"display:none;\">\n",
              "        \n",
              "  <svg xmlns=\"http://www.w3.org/2000/svg\" height=\"24px\"viewBox=\"0 0 24 24\"\n",
              "       width=\"24px\">\n",
              "    <path d=\"M0 0h24v24H0V0z\" fill=\"none\"/>\n",
              "    <path d=\"M18.56 5.44l.94 2.06.94-2.06 2.06-.94-2.06-.94-.94-2.06-.94 2.06-2.06.94zm-11 1L8.5 8.5l.94-2.06 2.06-.94-2.06-.94L8.5 2.5l-.94 2.06-2.06.94zm10 10l.94 2.06.94-2.06 2.06-.94-2.06-.94-.94-2.06-.94 2.06-2.06.94z\"/><path d=\"M17.41 7.96l-1.37-1.37c-.4-.4-.92-.59-1.43-.59-.52 0-1.04.2-1.43.59L10.3 9.45l-7.72 7.72c-.78.78-.78 2.05 0 2.83L4 21.41c.39.39.9.59 1.41.59.51 0 1.02-.2 1.41-.59l7.78-7.78 2.81-2.81c.8-.78.8-2.07 0-2.86zM5.41 20L4 18.59l7.72-7.72 1.47 1.35L5.41 20z\"/>\n",
              "  </svg>\n",
              "      </button>\n",
              "      \n",
              "  <style>\n",
              "    .colab-df-container {\n",
              "      display:flex;\n",
              "      flex-wrap:wrap;\n",
              "      gap: 12px;\n",
              "    }\n",
              "\n",
              "    .colab-df-convert {\n",
              "      background-color: #E8F0FE;\n",
              "      border: none;\n",
              "      border-radius: 50%;\n",
              "      cursor: pointer;\n",
              "      display: none;\n",
              "      fill: #1967D2;\n",
              "      height: 32px;\n",
              "      padding: 0 0 0 0;\n",
              "      width: 32px;\n",
              "    }\n",
              "\n",
              "    .colab-df-convert:hover {\n",
              "      background-color: #E2EBFA;\n",
              "      box-shadow: 0px 1px 2px rgba(60, 64, 67, 0.3), 0px 1px 3px 1px rgba(60, 64, 67, 0.15);\n",
              "      fill: #174EA6;\n",
              "    }\n",
              "\n",
              "    [theme=dark] .colab-df-convert {\n",
              "      background-color: #3B4455;\n",
              "      fill: #D2E3FC;\n",
              "    }\n",
              "\n",
              "    [theme=dark] .colab-df-convert:hover {\n",
              "      background-color: #434B5C;\n",
              "      box-shadow: 0px 1px 3px 1px rgba(0, 0, 0, 0.15);\n",
              "      filter: drop-shadow(0px 1px 2px rgba(0, 0, 0, 0.3));\n",
              "      fill: #FFFFFF;\n",
              "    }\n",
              "  </style>\n",
              "\n",
              "      <script>\n",
              "        const buttonEl =\n",
              "          document.querySelector('#df-2e91c1a4-3827-4462-acf4-c001c4bcd083 button.colab-df-convert');\n",
              "        buttonEl.style.display =\n",
              "          google.colab.kernel.accessAllowed ? 'block' : 'none';\n",
              "\n",
              "        async function convertToInteractive(key) {\n",
              "          const element = document.querySelector('#df-2e91c1a4-3827-4462-acf4-c001c4bcd083');\n",
              "          const dataTable =\n",
              "            await google.colab.kernel.invokeFunction('convertToInteractive',\n",
              "                                                     [key], {});\n",
              "          if (!dataTable) return;\n",
              "\n",
              "          const docLinkHtml = 'Like what you see? Visit the ' +\n",
              "            '<a target=\"_blank\" href=https://colab.research.google.com/notebooks/data_table.ipynb>data table notebook</a>'\n",
              "            + ' to learn more about interactive tables.';\n",
              "          element.innerHTML = '';\n",
              "          dataTable['output_type'] = 'display_data';\n",
              "          await google.colab.output.renderOutput(dataTable, element);\n",
              "          const docLink = document.createElement('div');\n",
              "          docLink.innerHTML = docLinkHtml;\n",
              "          element.appendChild(docLink);\n",
              "        }\n",
              "      </script>\n",
              "    </div>\n",
              "  </div>\n",
              "  "
            ]
          },
          "metadata": {},
          "execution_count": 7
        }
      ],
      "source": [
        "res_kns.smoothed_marginal_probabilities.head()"
      ]
    },
    {
      "cell_type": "code",
      "execution_count": 8,
      "id": "bf52969b",
      "metadata": {
        "colab": {
          "base_uri": "https://localhost:8080/"
        },
        "id": "bf52969b",
        "outputId": "96ce9eda-cb3a-4925-b8c4-4590a884084c"
      },
      "outputs": [
        {
          "output_type": "stream",
          "name": "stdout",
          "text": [
            "                   0         1\n",
            "Date                          \n",
            "2010-01-05  0.936641  0.063359\n",
            "2010-01-06  0.936989  0.063011\n",
            "2010-01-07  0.929687  0.070313\n",
            "2010-01-08  0.905970  0.094030\n",
            "2010-01-11  0.866870  0.133130\n"
          ]
        }
      ],
      "source": [
        "print(res_kns.smoothed_marginal_probabilities.head())"
      ]
    },
    {
      "cell_type": "code",
      "execution_count": 9,
      "id": "42ae3216",
      "metadata": {
        "colab": {
          "base_uri": "https://localhost:8080/",
          "height": 513
        },
        "id": "42ae3216",
        "outputId": "0340ddcd-e42a-4e41-bad5-343770eff12f"
      },
      "outputs": [
        {
          "output_type": "display_data",
          "data": {
            "text/plain": [
              "<Figure size 720x504 with 2 Axes>"
            ],
            "image/png": "[encoded data removed]"
          },
          "metadata": {
            "needs_background": "light"
          }
        }
      ],
      "source": [
        "fig, axes = plt.subplots(2, figsize=(10,7))\n",
        "ax = axes[0]\n",
        "ax.plot(res_kns.smoothed_marginal_probabilities[0])\n",
        "ax.grid(False)\n",
        "ax.set(title='Smoothed probability of a low-variance regime returns')\n",
        "ax = axes[1]\n",
        "ax.plot(res_kns.smoothed_marginal_probabilities[1])\n",
        "ax.set(title='Smoothed probability of a high-variance regime returns')\n",
        "fig.tight_layout()\n",
        "ax.grid(False)"
      ]
    },
    {
      "cell_type": "markdown",
      "id": "6b9112a4",
      "metadata": {
        "id": "6b9112a4"
      },
      "source": [
        "----------\n",
        "Encoding regimes into binary states. \n",
        "\n",
        "0 --> low variance regime returns\n",
        "\n",
        "1 --> high variance regime returns"
      ]
    },
    {
      "cell_type": "code",
      "execution_count": 10,
      "id": "69f740cf",
      "metadata": {
        "id": "69f740cf"
      },
      "outputs": [],
      "source": [
        "low_var = list(res_kns.smoothed_marginal_probabilities[0])\n",
        "high_var = list(res_kns.smoothed_marginal_probabilities[1])\n",
        "\n",
        "regime_list = []\n",
        "for i in range(0, len(low_var)):\n",
        "    if low_var[i] > high_var[i]:\n",
        "        regime_list.append(0)\n",
        "    else:\n",
        "        regime_list.append(1)"
      ]
    },
    {
      "cell_type": "code",
      "execution_count": 11,
      "id": "0729f008",
      "metadata": {
        "id": "0729f008"
      },
      "outputs": [],
      "source": [
        "regime_df = pd.DataFrame()\n",
        "regime_df['regimes'] = regime_list"
      ]
    },
    {
      "cell_type": "markdown",
      "id": "8a17fff5",
      "metadata": {
        "id": "8a17fff5"
      },
      "source": [
        "------\n",
        "Plotting the encoded states on the adjusted close price series of the NASDAQ 100, this gives a visual representation of the models regime classifications in time and price space."
      ]
    },
    {
      "cell_type": "code",
      "execution_count": 13,
      "id": "a51405a8",
      "metadata": {
        "colab": {
          "base_uri": "https://localhost:8080/",
          "height": 879
        },
        "id": "a51405a8",
        "outputId": "279a71b3-5314-4cae-c6d2-328bd35e81c6"
      },
      "outputs": [
        {
          "output_type": "execute_result",
          "data": {
            "text/plain": [
              "Text(0.5, 0.98, 'Historical NASDAQ 100 regimes')"
            ]
          },
          "metadata": {},
          "execution_count": 13
        },
        {
          "output_type": "display_data",
          "data": {
            "text/plain": [
              "<Figure size 1217.79x864 with 1 Axes>"
            ],
            "image/png": "[encoded data removed]"
          },
          "metadata": {}
        }
      ],
      "source": [
        "sns.set(font_scale=1.5)\n",
        "df = df.iloc[len(df)-len(regime_list):]\n",
        "regimes = (pd.DataFrame(regime_list, columns=['regimes'], index=df.index)\n",
        "          .join(df, how='inner')\n",
        "          .reset_index(drop=False)\n",
        "          .rename(columns={'index':'Date'}))\n",
        "regimes.head()\n",
        "\n",
        "import warnings\n",
        "warnings.filterwarnings(\"ignore\")\n",
        "colors = 'green', 'red', 'yellow'\n",
        "sns.set_style(\"whitegrid\")\n",
        "order = [0, 1]\n",
        "fg = sns.FacetGrid(data=regimes, hue='regimes', hue_order=order,\n",
        "                   palette=colors, aspect=1.31, height=12)\n",
        "fg.map(plt.scatter, 'Date', \"Adj Close\", alpha=0.8).add_legend()\n",
        "sns.despine(offset=10)\n",
        "fg.fig.suptitle('Historical NASDAQ 100 regimes', fontsize=24, fontweight='demi')"
      ]
    },
    {
      "cell_type": "markdown",
      "id": "4444a74a",
      "metadata": {
        "id": "4444a74a"
      },
      "source": [
        "## Machine learning"
      ]
    },
    {
      "cell_type": "markdown",
      "id": "1922a61e",
      "metadata": {
        "id": "1922a61e"
      },
      "source": [
        "Loading the dataset and creating features for the random forest classifier."
      ]
    },
    {
      "cell_type": "code",
      "execution_count": 14,
      "id": "1c7ebd7a",
      "metadata": {
        "colab": {
          "base_uri": "https://localhost:8080/",
          "height": 435
        },
        "id": "1c7ebd7a",
        "outputId": "e638672f-e136-4eae-aac2-bbb6ecd66e85"
      },
      "outputs": [
        {
          "output_type": "stream",
          "name": "stdout",
          "text": [
            "\r[*********************100%***********************]  1 of 1 completed\n"
          ]
        },
        {
          "output_type": "execute_result",
          "data": {
            "text/plain": [
              "                   Open         High          Low        Close    Adj Close  \\\n",
              "Date                                                                          \n",
              "2010-03-04  1852.699951  1860.760010  1844.920044  1859.719971  1859.719971   \n",
              "2010-03-05  1871.619995  1889.680054  1869.099976  1888.560059  1888.560059   \n",
              "2010-03-08  1888.040039  1894.750000  1887.660034  1890.890015  1890.890015   \n",
              "2010-03-09  1885.989990  1911.380005  1885.989990  1901.380005  1901.380005   \n",
              "2010-03-10  1901.239990  1920.660034  1901.109985  1917.349976  1917.349976   \n",
              "\n",
              "                Volume  Close_1_Value  Volume_1_Value  Close_2_Value  \\\n",
              "Date                                                                   \n",
              "2010-03-04  2186020000       0.004402       -0.160357       0.004597   \n",
              "2010-03-05  2411880000       0.015508        0.103320       0.019978   \n",
              "2010-03-08  2312310000       0.001234       -0.041283       0.016761   \n",
              "2010-03-09  2620360000       0.005548        0.133222       0.006788   \n",
              "2010-03-10  2554740000       0.008399       -0.025042       0.013993   \n",
              "\n",
              "            Volume_2_Value  ...  Volume_14_Value  Close_21_Value  \\\n",
              "Date                        ...                                    \n",
              "2010-03-04       -0.228065  ...         0.020904        0.046597   \n",
              "2010-03-05       -0.073604  ...         0.078571        0.058195   \n",
              "2010-03-08        0.057772  ...         0.115522        0.091114   \n",
              "2010-03-09        0.086439  ...         0.245697        0.088917   \n",
              "2010-03-10        0.104843  ...         0.230121        0.105177   \n",
              "\n",
              "            Volume_21_Value  Low_Var_Prob  High_Var_Prob  Volt_3_Value  \\\n",
              "Date                                                                     \n",
              "2010-03-04        -0.114423      0.998196       0.001804      0.002106   \n",
              "2010-03-05         0.047118      0.997182       0.002818      0.007847   \n",
              "2010-03-08        -0.174585      0.998427       0.001573      0.007431   \n",
              "2010-03-09        -0.067852      0.998794       0.001206      0.007257   \n",
              "2010-03-10         0.254611      0.998919       0.001081      0.003591   \n",
              "\n",
              "            Volt_7_Value  Volt_14_Value  Volt_21_Value  regimes  \n",
              "Date                                                             \n",
              "2010-03-04      0.005576       0.007032       0.010049        0  \n",
              "2010-03-05      0.006590       0.007716       0.010449        0  \n",
              "2010-03-08      0.006455       0.007340       0.007453        0  \n",
              "2010-03-09      0.006342       0.007352       0.007420        0  \n",
              "2010-03-10      0.005194       0.007415       0.007067        0  \n",
              "\n",
              "[5 rows x 27 columns]"
            ],
            "text/html": [
              "\n",
              "  <div id=\"df-a91d352b-d562-4ee6-957a-66d176d76389\">\n",
              "    <div class=\"colab-df-container\">\n",
              "      <div>\n",
              "<style scoped>\n",
              "    .dataframe tbody tr th:only-of-type {\n",
              "        vertical-align: middle;\n",
              "    }\n",
              "\n",
              "    .dataframe tbody tr th {\n",
              "        vertical-align: top;\n",
              "    }\n",
              "\n",
              "    .dataframe thead th {\n",
              "        text-align: right;\n",
              "    }\n",
              "</style>\n",
              "<table border=\"1\" class=\"dataframe\">\n",
              "  <thead>\n",
              "    <tr style=\"text-align: right;\">\n",
              "      <th></th>\n",
              "      <th>Open</th>\n",
              "      <th>High</th>\n",
              "      <th>Low</th>\n",
              "      <th>Close</th>\n",
              "      <th>Adj Close</th>\n",
              "      <th>Volume</th>\n",
              "      <th>Close_1_Value</th>\n",
              "      <th>Volume_1_Value</th>\n",
              "      <th>Close_2_Value</th>\n",
              "      <th>Volume_2_Value</th>\n",
              "      <th>...</th>\n",
              "      <th>Volume_14_Value</th>\n",
              "      <th>Close_21_Value</th>\n",
              "      <th>Volume_21_Value</th>\n",
              "      <th>Low_Var_Prob</th>\n",
              "      <th>High_Var_Prob</th>\n",
              "      <th>Volt_3_Value</th>\n",
              "      <th>Volt_7_Value</th>\n",
              "      <th>Volt_14_Value</th>\n",
              "      <th>Volt_21_Value</th>\n",
              "      <th>regimes</th>\n",
              "    </tr>\n",
              "    <tr>\n",
              "      <th>Date</th>\n",
              "      <th></th>\n",
              "      <th></th>\n",
              "      <th></th>\n",
              "      <th></th>\n",
              "      <th></th>\n",
              "      <th></th>\n",
              "      <th></th>\n",
              "      <th></th>\n",
              "      <th></th>\n",
              "      <th></th>\n",
              "      <th></th>\n",
              "      <th></th>\n",
              "      <th></th>\n",
              "      <th></th>\n",
              "      <th></th>\n",
              "      <th></th>\n",
              "      <th></th>\n",
              "      <th></th>\n",
              "      <th></th>\n",
              "      <th></th>\n",
              "      <th></th>\n",
              "    </tr>\n",
              "  </thead>\n",
              "  <tbody>\n",
              "    <tr>\n",
              "      <th>2010-03-04</th>\n",
              "      <td>1852.699951</td>\n",
              "      <td>1860.760010</td>\n",
              "      <td>1844.920044</td>\n",
              "      <td>1859.719971</td>\n",
              "      <td>1859.719971</td>\n",
              "      <td>2186020000</td>\n",
              "      <td>0.004402</td>\n",
              "      <td>-0.160357</td>\n",
              "      <td>0.004597</td>\n",
              "      <td>-0.228065</td>\n",
              "      <td>...</td>\n",
              "      <td>0.020904</td>\n",
              "      <td>0.046597</td>\n",
              "      <td>-0.114423</td>\n",
              "      <td>0.998196</td>\n",
              "      <td>0.001804</td>\n",
              "      <td>0.002106</td>\n",
              "      <td>0.005576</td>\n",
              "      <td>0.007032</td>\n",
              "      <td>0.010049</td>\n",
              "      <td>0</td>\n",
              "    </tr>\n",
              "    <tr>\n",
              "      <th>2010-03-05</th>\n",
              "      <td>1871.619995</td>\n",
              "      <td>1889.680054</td>\n",
              "      <td>1869.099976</td>\n",
              "      <td>1888.560059</td>\n",
              "      <td>1888.560059</td>\n",
              "      <td>2411880000</td>\n",
              "      <td>0.015508</td>\n",
              "      <td>0.103320</td>\n",
              "      <td>0.019978</td>\n",
              "      <td>-0.073604</td>\n",
              "      <td>...</td>\n",
              "      <td>0.078571</td>\n",
              "      <td>0.058195</td>\n",
              "      <td>0.047118</td>\n",
              "      <td>0.997182</td>\n",
              "      <td>0.002818</td>\n",
              "      <td>0.007847</td>\n",
              "      <td>0.006590</td>\n",
              "      <td>0.007716</td>\n",
              "      <td>0.010449</td>\n",
              "      <td>0</td>\n",
              "    </tr>\n",
              "    <tr>\n",
              "      <th>2010-03-08</th>\n",
              "      <td>1888.040039</td>\n",
              "      <td>1894.750000</td>\n",
              "      <td>1887.660034</td>\n",
              "      <td>1890.890015</td>\n",
              "      <td>1890.890015</td>\n",
              "      <td>2312310000</td>\n",
              "      <td>0.001234</td>\n",
              "      <td>-0.041283</td>\n",
              "      <td>0.016761</td>\n",
              "      <td>0.057772</td>\n",
              "      <td>...</td>\n",
              "      <td>0.115522</td>\n",
              "      <td>0.091114</td>\n",
              "      <td>-0.174585</td>\n",
              "      <td>0.998427</td>\n",
              "      <td>0.001573</td>\n",
              "      <td>0.007431</td>\n",
              "      <td>0.006455</td>\n",
              "      <td>0.007340</td>\n",
              "      <td>0.007453</td>\n",
              "      <td>0</td>\n",
              "    </tr>\n",
              "    <tr>\n",
              "      <th>2010-03-09</th>\n",
              "      <td>1885.989990</td>\n",
              "      <td>1911.380005</td>\n",
              "      <td>1885.989990</td>\n",
              "      <td>1901.380005</td>\n",
              "      <td>1901.380005</td>\n",
              "      <td>2620360000</td>\n",
              "      <td>0.005548</td>\n",
              "      <td>0.133222</td>\n",
              "      <td>0.006788</td>\n",
              "      <td>0.086439</td>\n",
              "      <td>...</td>\n",
              "      <td>0.245697</td>\n",
              "      <td>0.088917</td>\n",
              "      <td>-0.067852</td>\n",
              "      <td>0.998794</td>\n",
              "      <td>0.001206</td>\n",
              "      <td>0.007257</td>\n",
              "      <td>0.006342</td>\n",
              "      <td>0.007352</td>\n",
              "      <td>0.007420</td>\n",
              "      <td>0</td>\n",
              "    </tr>\n",
              "    <tr>\n",
              "      <th>2010-03-10</th>\n",
              "      <td>1901.239990</td>\n",
              "      <td>1920.660034</td>\n",
              "      <td>1901.109985</td>\n",
              "      <td>1917.349976</td>\n",
              "      <td>1917.349976</td>\n",
              "      <td>2554740000</td>\n",
              "      <td>0.008399</td>\n",
              "      <td>-0.025042</td>\n",
              "      <td>0.013993</td>\n",
              "      <td>0.104843</td>\n",
              "      <td>...</td>\n",
              "      <td>0.230121</td>\n",
              "      <td>0.105177</td>\n",
              "      <td>0.254611</td>\n",
              "      <td>0.998919</td>\n",
              "      <td>0.001081</td>\n",
              "      <td>0.003591</td>\n",
              "      <td>0.005194</td>\n",
              "      <td>0.007415</td>\n",
              "      <td>0.007067</td>\n",
              "      <td>0</td>\n",
              "    </tr>\n",
              "  </tbody>\n",
              "</table>\n",
              "<p>5 rows × 27 columns</p>\n",
              "</div>\n",
              "      <button class=\"colab-df-convert\" onclick=\"convertToInteractive('df-a91d352b-d562-4ee6-957a-66d176d76389')\"\n",
              "              title=\"Convert this dataframe to an interactive table.\"\n",
              "              style=\"display:none;\">\n",
              "        \n",
              "  <svg xmlns=\"http://www.w3.org/2000/svg\" height=\"24px\"viewBox=\"0 0 24 24\"\n",
              "       width=\"24px\">\n",
              "    <path d=\"M0 0h24v24H0V0z\" fill=\"none\"/>\n",
              "    <path d=\"M18.56 5.44l.94 2.06.94-2.06 2.06-.94-2.06-.94-.94-2.06-.94 2.06-2.06.94zm-11 1L8.5 8.5l.94-2.06 2.06-.94-2.06-.94L8.5 2.5l-.94 2.06-2.06.94zm10 10l.94 2.06.94-2.06 2.06-.94-2.06-.94-.94-2.06-.94 2.06-2.06.94z\"/><path d=\"M17.41 7.96l-1.37-1.37c-.4-.4-.92-.59-1.43-.59-.52 0-1.04.2-1.43.59L10.3 9.45l-7.72 7.72c-.78.78-.78 2.05 0 2.83L4 21.41c.39.39.9.59 1.41.59.51 0 1.02-.2 1.41-.59l7.78-7.78 2.81-2.81c.8-.78.8-2.07 0-2.86zM5.41 20L4 18.59l7.72-7.72 1.47 1.35L5.41 20z\"/>\n",
              "  </svg>\n",
              "      </button>\n",
              "      \n",
              "  <style>\n",
              "    .colab-df-container {\n",
              "      display:flex;\n",
              "      flex-wrap:wrap;\n",
              "      gap: 12px;\n",
              "    }\n",
              "\n",
              "    .colab-df-convert {\n",
              "      background-color: #E8F0FE;\n",
              "      border: none;\n",
              "      border-radius: 50%;\n",
              "      cursor: pointer;\n",
              "      display: none;\n",
              "      fill: #1967D2;\n",
              "      height: 32px;\n",
              "      padding: 0 0 0 0;\n",
              "      width: 32px;\n",
              "    }\n",
              "\n",
              "    .colab-df-convert:hover {\n",
              "      background-color: #E2EBFA;\n",
              "      box-shadow: 0px 1px 2px rgba(60, 64, 67, 0.3), 0px 1px 3px 1px rgba(60, 64, 67, 0.15);\n",
              "      fill: #174EA6;\n",
              "    }\n",
              "\n",
              "    [theme=dark] .colab-df-convert {\n",
              "      background-color: #3B4455;\n",
              "      fill: #D2E3FC;\n",
              "    }\n",
              "\n",
              "    [theme=dark] .colab-df-convert:hover {\n",
              "      background-color: #434B5C;\n",
              "      box-shadow: 0px 1px 3px 1px rgba(0, 0, 0, 0.15);\n",
              "      filter: drop-shadow(0px 1px 2px rgba(0, 0, 0, 0.3));\n",
              "      fill: #FFFFFF;\n",
              "    }\n",
              "  </style>\n",
              "\n",
              "      <script>\n",
              "        const buttonEl =\n",
              "          document.querySelector('#df-a91d352b-d562-4ee6-957a-66d176d76389 button.colab-df-convert');\n",
              "        buttonEl.style.display =\n",
              "          google.colab.kernel.accessAllowed ? 'block' : 'none';\n",
              "\n",
              "        async function convertToInteractive(key) {\n",
              "          const element = document.querySelector('#df-a91d352b-d562-4ee6-957a-66d176d76389');\n",
              "          const dataTable =\n",
              "            await google.colab.kernel.invokeFunction('convertToInteractive',\n",
              "                                                     [key], {});\n",
              "          if (!dataTable) return;\n",
              "\n",
              "          const docLinkHtml = 'Like what you see? Visit the ' +\n",
              "            '<a target=\"_blank\" href=https://colab.research.google.com/notebooks/data_table.ipynb>data table notebook</a>'\n",
              "            + ' to learn more about interactive tables.';\n",
              "          element.innerHTML = '';\n",
              "          dataTable['output_type'] = 'display_data';\n",
              "          await google.colab.output.renderOutput(dataTable, element);\n",
              "          const docLink = document.createElement('div');\n",
              "          docLink.innerHTML = docLinkHtml;\n",
              "          element.appendChild(docLink);\n",
              "        }\n",
              "      </script>\n",
              "    </div>\n",
              "  </div>\n",
              "  "
            ]
          },
          "metadata": {},
          "execution_count": 14
        }
      ],
      "source": [
        "ml_df = yf.download('^NDX', start=\"2010-01-01\", end=\"2022-10-01\", interval=\"1d\")\n",
        "\n",
        "# price and volume returns\n",
        "for i in [1, 2, 3, 5, 7, 14, 21]:\n",
        "    ml_df[f'Close_{i}_Value'] = ml_df['Adj Close'].pct_change(i)\n",
        "    ml_df[f'Volume_{i}_Value'] = ml_df['Volume'].pct_change(i)\n",
        "ml_df.dropna(inplace=True)\n",
        "\n",
        "# probabilities\n",
        "low_var_prob = list(res_kns.smoothed_marginal_probabilities[0])\n",
        "high_var_prob = list(res_kns.smoothed_marginal_probabilities[1])\n",
        "ml_df['Low_Var_Prob'] = low_var_prob[len(low_var_prob)-len(ml_df):] # adjust length\n",
        "ml_df['High_Var_Prob'] = high_var_prob[len(high_var_prob)-len(ml_df):]\n",
        "\n",
        "# volatility     \n",
        "for i in [3, 7, 14, 21]:\n",
        "    ml_df[f'Volt_{i}_Value'] = np.log(1 + ml_df['Close_1_Value']).rolling(i).std()\n",
        "    \n",
        "ml_df.dropna(inplace=True)\n",
        "\n",
        "# states\n",
        "ml_df['regimes'] = regime_list[len(regimes)-len(ml_df):] # adjust length\n",
        "\n",
        "ml_df.head()"
      ]
    },
    {
      "cell_type": "markdown",
      "id": "1ebd0b7f",
      "metadata": {
        "id": "1ebd0b7f"
      },
      "source": [
        "------\n",
        "Creating the data labels by shifting the current state back by one day. This brings the next days state into the current day, creating a future target state for the model to map to and predict."
      ]
    },
    {
      "cell_type": "code",
      "execution_count": 15,
      "id": "435b340a",
      "metadata": {
        "colab": {
          "base_uri": "https://localhost:8080/",
          "height": 693
        },
        "id": "435b340a",
        "outputId": "f104d379-0a54-4203-c349-15c0e6a8a7dd"
      },
      "outputs": [
        {
          "output_type": "execute_result",
          "data": {
            "text/plain": [
              "                    Open          High           Low         Close  \\\n",
              "Date                                                                 \n",
              "2010-03-04   1852.699951   1860.760010   1844.920044   1859.719971   \n",
              "2010-03-05   1871.619995   1889.680054   1869.099976   1888.560059   \n",
              "2010-03-08   1888.040039   1894.750000   1887.660034   1890.890015   \n",
              "2010-03-09   1885.989990   1911.380005   1885.989990   1901.380005   \n",
              "2010-03-10   1901.239990   1920.660034   1901.109985   1917.349976   \n",
              "...                  ...           ...           ...           ...   \n",
              "2022-09-23  11398.750000  11402.410156  11169.660156  11311.240234   \n",
              "2022-09-26  11283.139648  11473.360352  11235.740234  11254.110352   \n",
              "2022-09-27  11411.339844  11502.379883  11175.290039  11271.750000   \n",
              "2022-09-28  11258.740234  11546.870117  11210.809570  11493.830078   \n",
              "2022-09-29  11334.570312  11339.910156  11038.940430  11164.780273   \n",
              "\n",
              "               Adj Close      Volume  Close_1_Value  Volume_1_Value  \\\n",
              "Date                                                                  \n",
              "2010-03-04   1859.719971  2186020000       0.004402       -0.160357   \n",
              "2010-03-05   1888.560059  2411880000       0.015508        0.103320   \n",
              "2010-03-08   1890.890015  2312310000       0.001234       -0.041283   \n",
              "2010-03-09   1901.380005  2620360000       0.005548        0.133222   \n",
              "2010-03-10   1917.349976  2554740000       0.008399       -0.025042   \n",
              "...                  ...         ...            ...             ...   \n",
              "2022-09-23  11311.240234  5134350000      -0.016555        0.044316   \n",
              "2022-09-26  11254.110352  4697730000      -0.005051       -0.085039   \n",
              "2022-09-27  11271.750000  4445050000       0.001567       -0.053788   \n",
              "2022-09-28  11493.830078  4556100000       0.019702        0.024983   \n",
              "2022-09-29  11164.780273  4516630000      -0.028628       -0.008663   \n",
              "\n",
              "            Close_2_Value  Volume_2_Value  ...  Volume_14_Value  \\\n",
              "Date                                       ...                    \n",
              "2010-03-04       0.004597       -0.228065  ...         0.020904   \n",
              "2010-03-05       0.019978       -0.073604  ...         0.078571   \n",
              "2010-03-08       0.016761        0.057772  ...         0.115522   \n",
              "2010-03-09       0.006788        0.086439  ...         0.245697   \n",
              "2010-03-10       0.013993        0.104843  ...         0.230121   \n",
              "...                   ...             ...  ...              ...   \n",
              "2022-09-23      -0.028059        0.148367  ...        59.121194   \n",
              "2022-09-26      -0.021522       -0.044491  ...        55.831962   \n",
              "2022-09-27      -0.003491       -0.134253  ...        53.500368   \n",
              "2022-09-28       0.021301       -0.030149  ...        53.479254   \n",
              "2022-09-29      -0.009490        0.016103  ...        54.121186   \n",
              "\n",
              "            Close_21_Value  Volume_21_Value  Low_Var_Prob  High_Var_Prob  \\\n",
              "Date                                                                       \n",
              "2010-03-04        0.046597        -0.114423      0.998196       0.001804   \n",
              "2010-03-05        0.058195         0.047118      0.997182       0.002818   \n",
              "2010-03-08        0.091114        -0.174585      0.998427       0.001573   \n",
              "2010-03-09        0.088917        -0.067852      0.998794       0.001206   \n",
              "2010-03-10        0.105177         0.254611      0.998919       0.001081   \n",
              "...                    ...              ...           ...            ...   \n",
              "2022-09-23       -0.124372         0.317659      0.015801       0.984199   \n",
              "2022-09-26       -0.143756         0.095019      0.018335       0.981665   \n",
              "2022-09-27       -0.105784        -0.014506      0.015463       0.984537   \n",
              "2022-09-28       -0.079339         0.089002      0.003598       0.996402   \n",
              "2022-09-29       -0.095435        -0.024638      0.001120       0.998880   \n",
              "\n",
              "            Volt_3_Value  Volt_7_Value  Volt_14_Value  Volt_21_Value  regimes  \n",
              "Date                                                                           \n",
              "2010-03-04      0.002106      0.005576       0.007032       0.010049      0.0  \n",
              "2010-03-05      0.007847      0.006590       0.007716       0.010449      0.0  \n",
              "2010-03-08      0.007431      0.006455       0.007340       0.007453      0.0  \n",
              "2010-03-09      0.007257      0.006342       0.007352       0.007420      0.0  \n",
              "2010-03-10      0.003591      0.005194       0.007415       0.007067      0.0  \n",
              "...                  ...           ...            ...            ...      ...  \n",
              "2022-09-23      0.003365      0.009153       0.020198       0.019107      1.0  \n",
              "2022-09-26      0.005838      0.008709       0.020187       0.018330      1.0  \n",
              "2022-09-27      0.009243      0.009466       0.018976       0.016620      1.0  \n",
              "2022-09-28      0.012714      0.012979       0.019991       0.017439      1.0  \n",
              "2022-09-29      0.024552      0.015768       0.019405       0.018224      1.0  \n",
              "\n",
              "[3167 rows x 27 columns]"
            ],
            "text/html": [
              "\n",
              "  <div id=\"df-56386eca-3f8f-4b48-ba83-f944de275b89\">\n",
              "    <div class=\"colab-df-container\">\n",
              "      <div>\n",
              "<style scoped>\n",
              "    .dataframe tbody tr th:only-of-type {\n",
              "        vertical-align: middle;\n",
              "    }\n",
              "\n",
              "    .dataframe tbody tr th {\n",
              "        vertical-align: top;\n",
              "    }\n",
              "\n",
              "    .dataframe thead th {\n",
              "        text-align: right;\n",
              "    }\n",
              "</style>\n",
              "<table border=\"1\" class=\"dataframe\">\n",
              "  <thead>\n",
              "    <tr style=\"text-align: right;\">\n",
              "      <th></th>\n",
              "      <th>Open</th>\n",
              "      <th>High</th>\n",
              "      <th>Low</th>\n",
              "      <th>Close</th>\n",
              "      <th>Adj Close</th>\n",
              "      <th>Volume</th>\n",
              "      <th>Close_1_Value</th>\n",
              "      <th>Volume_1_Value</th>\n",
              "      <th>Close_2_Value</th>\n",
              "      <th>Volume_2_Value</th>\n",
              "      <th>...</th>\n",
              "      <th>Volume_14_Value</th>\n",
              "      <th>Close_21_Value</th>\n",
              "      <th>Volume_21_Value</th>\n",
              "      <th>Low_Var_Prob</th>\n",
              "      <th>High_Var_Prob</th>\n",
              "      <th>Volt_3_Value</th>\n",
              "      <th>Volt_7_Value</th>\n",
              "      <th>Volt_14_Value</th>\n",
              "      <th>Volt_21_Value</th>\n",
              "      <th>regimes</th>\n",
              "    </tr>\n",
              "    <tr>\n",
              "      <th>Date</th>\n",
              "      <th></th>\n",
              "      <th></th>\n",
              "      <th></th>\n",
              "      <th></th>\n",
              "      <th></th>\n",
              "      <th></th>\n",
              "      <th></th>\n",
              "      <th></th>\n",
              "      <th></th>\n",
              "      <th></th>\n",
              "      <th></th>\n",
              "      <th></th>\n",
              "      <th></th>\n",
              "      <th></th>\n",
              "      <th></th>\n",
              "      <th></th>\n",
              "      <th></th>\n",
              "      <th></th>\n",
              "      <th></th>\n",
              "      <th></th>\n",
              "      <th></th>\n",
              "    </tr>\n",
              "  </thead>\n",
              "  <tbody>\n",
              "    <tr>\n",
              "      <th>2010-03-04</th>\n",
              "      <td>1852.699951</td>\n",
              "      <td>1860.760010</td>\n",
              "      <td>1844.920044</td>\n",
              "      <td>1859.719971</td>\n",
              "      <td>1859.719971</td>\n",
              "      <td>2186020000</td>\n",
              "      <td>0.004402</td>\n",
              "      <td>-0.160357</td>\n",
              "      <td>0.004597</td>\n",
              "      <td>-0.228065</td>\n",
              "      <td>...</td>\n",
              "      <td>0.020904</td>\n",
              "      <td>0.046597</td>\n",
              "      <td>-0.114423</td>\n",
              "      <td>0.998196</td>\n",
              "      <td>0.001804</td>\n",
              "      <td>0.002106</td>\n",
              "      <td>0.005576</td>\n",
              "      <td>0.007032</td>\n",
              "      <td>0.010049</td>\n",
              "      <td>0.0</td>\n",
              "    </tr>\n",
              "    <tr>\n",
              "      <th>2010-03-05</th>\n",
              "      <td>1871.619995</td>\n",
              "      <td>1889.680054</td>\n",
              "      <td>1869.099976</td>\n",
              "      <td>1888.560059</td>\n",
              "      <td>1888.560059</td>\n",
              "      <td>2411880000</td>\n",
              "      <td>0.015508</td>\n",
              "      <td>0.103320</td>\n",
              "      <td>0.019978</td>\n",
              "      <td>-0.073604</td>\n",
              "      <td>...</td>\n",
              "      <td>0.078571</td>\n",
              "      <td>0.058195</td>\n",
              "      <td>0.047118</td>\n",
              "      <td>0.997182</td>\n",
              "      <td>0.002818</td>\n",
              "      <td>0.007847</td>\n",
              "      <td>0.006590</td>\n",
              "      <td>0.007716</td>\n",
              "      <td>0.010449</td>\n",
              "      <td>0.0</td>\n",
              "    </tr>\n",
              "    <tr>\n",
              "      <th>2010-03-08</th>\n",
              "      <td>1888.040039</td>\n",
              "      <td>1894.750000</td>\n",
              "      <td>1887.660034</td>\n",
              "      <td>1890.890015</td>\n",
              "      <td>1890.890015</td>\n",
              "      <td>2312310000</td>\n",
              "      <td>0.001234</td>\n",
              "      <td>-0.041283</td>\n",
              "      <td>0.016761</td>\n",
              "      <td>0.057772</td>\n",
              "      <td>...</td>\n",
              "      <td>0.115522</td>\n",
              "      <td>0.091114</td>\n",
              "      <td>-0.174585</td>\n",
              "      <td>0.998427</td>\n",
              "      <td>0.001573</td>\n",
              "      <td>0.007431</td>\n",
              "      <td>0.006455</td>\n",
              "      <td>0.007340</td>\n",
              "      <td>0.007453</td>\n",
              "      <td>0.0</td>\n",
              "    </tr>\n",
              "    <tr>\n",
              "      <th>2010-03-09</th>\n",
              "      <td>1885.989990</td>\n",
              "      <td>1911.380005</td>\n",
              "      <td>1885.989990</td>\n",
              "      <td>1901.380005</td>\n",
              "      <td>1901.380005</td>\n",
              "      <td>2620360000</td>\n",
              "      <td>0.005548</td>\n",
              "      <td>0.133222</td>\n",
              "      <td>0.006788</td>\n",
              "      <td>0.086439</td>\n",
              "      <td>...</td>\n",
              "      <td>0.245697</td>\n",
              "      <td>0.088917</td>\n",
              "      <td>-0.067852</td>\n",
              "      <td>0.998794</td>\n",
              "      <td>0.001206</td>\n",
              "      <td>0.007257</td>\n",
              "      <td>0.006342</td>\n",
              "      <td>0.007352</td>\n",
              "      <td>0.007420</td>\n",
              "      <td>0.0</td>\n",
              "    </tr>\n",
              "    <tr>\n",
              "      <th>2010-03-10</th>\n",
              "      <td>1901.239990</td>\n",
              "      <td>1920.660034</td>\n",
              "      <td>1901.109985</td>\n",
              "      <td>1917.349976</td>\n",
              "      <td>1917.349976</td>\n",
              "      <td>2554740000</td>\n",
              "      <td>0.008399</td>\n",
              "      <td>-0.025042</td>\n",
              "      <td>0.013993</td>\n",
              "      <td>0.104843</td>\n",
              "      <td>...</td>\n",
              "      <td>0.230121</td>\n",
              "      <td>0.105177</td>\n",
              "      <td>0.254611</td>\n",
              "      <td>0.998919</td>\n",
              "      <td>0.001081</td>\n",
              "      <td>0.003591</td>\n",
              "      <td>0.005194</td>\n",
              "      <td>0.007415</td>\n",
              "      <td>0.007067</td>\n",
              "      <td>0.0</td>\n",
              "    </tr>\n",
              "    <tr>\n",
              "      <th>...</th>\n",
              "      <td>...</td>\n",
              "      <td>...</td>\n",
              "      <td>...</td>\n",
              "      <td>...</td>\n",
              "      <td>...</td>\n",
              "      <td>...</td>\n",
              "      <td>...</td>\n",
              "      <td>...</td>\n",
              "      <td>...</td>\n",
              "      <td>...</td>\n",
              "      <td>...</td>\n",
              "      <td>...</td>\n",
              "      <td>...</td>\n",
              "      <td>...</td>\n",
              "      <td>...</td>\n",
              "      <td>...</td>\n",
              "      <td>...</td>\n",
              "      <td>...</td>\n",
              "      <td>...</td>\n",
              "      <td>...</td>\n",
              "      <td>...</td>\n",
              "    </tr>\n",
              "    <tr>\n",
              "      <th>2022-09-23</th>\n",
              "      <td>11398.750000</td>\n",
              "      <td>11402.410156</td>\n",
              "      <td>11169.660156</td>\n",
              "      <td>11311.240234</td>\n",
              "      <td>11311.240234</td>\n",
              "      <td>5134350000</td>\n",
              "      <td>-0.016555</td>\n",
              "      <td>0.044316</td>\n",
              "      <td>-0.028059</td>\n",
              "      <td>0.148367</td>\n",
              "      <td>...</td>\n",
              "      <td>59.121194</td>\n",
              "      <td>-0.124372</td>\n",
              "      <td>0.317659</td>\n",
              "      <td>0.015801</td>\n",
              "      <td>0.984199</td>\n",
              "      <td>0.003365</td>\n",
              "      <td>0.009153</td>\n",
              "      <td>0.020198</td>\n",
              "      <td>0.019107</td>\n",
              "      <td>1.0</td>\n",
              "    </tr>\n",
              "    <tr>\n",
              "      <th>2022-09-26</th>\n",
              "      <td>11283.139648</td>\n",
              "      <td>11473.360352</td>\n",
              "      <td>11235.740234</td>\n",
              "      <td>11254.110352</td>\n",
              "      <td>11254.110352</td>\n",
              "      <td>4697730000</td>\n",
              "      <td>-0.005051</td>\n",
              "      <td>-0.085039</td>\n",
              "      <td>-0.021522</td>\n",
              "      <td>-0.044491</td>\n",
              "      <td>...</td>\n",
              "      <td>55.831962</td>\n",
              "      <td>-0.143756</td>\n",
              "      <td>0.095019</td>\n",
              "      <td>0.018335</td>\n",
              "      <td>0.981665</td>\n",
              "      <td>0.005838</td>\n",
              "      <td>0.008709</td>\n",
              "      <td>0.020187</td>\n",
              "      <td>0.018330</td>\n",
              "      <td>1.0</td>\n",
              "    </tr>\n",
              "    <tr>\n",
              "      <th>2022-09-27</th>\n",
              "      <td>11411.339844</td>\n",
              "      <td>11502.379883</td>\n",
              "      <td>11175.290039</td>\n",
              "      <td>11271.750000</td>\n",
              "      <td>11271.750000</td>\n",
              "      <td>4445050000</td>\n",
              "      <td>0.001567</td>\n",
              "      <td>-0.053788</td>\n",
              "      <td>-0.003491</td>\n",
              "      <td>-0.134253</td>\n",
              "      <td>...</td>\n",
              "      <td>53.500368</td>\n",
              "      <td>-0.105784</td>\n",
              "      <td>-0.014506</td>\n",
              "      <td>0.015463</td>\n",
              "      <td>0.984537</td>\n",
              "      <td>0.009243</td>\n",
              "      <td>0.009466</td>\n",
              "      <td>0.018976</td>\n",
              "      <td>0.016620</td>\n",
              "      <td>1.0</td>\n",
              "    </tr>\n",
              "    <tr>\n",
              "      <th>2022-09-28</th>\n",
              "      <td>11258.740234</td>\n",
              "      <td>11546.870117</td>\n",
              "      <td>11210.809570</td>\n",
              "      <td>11493.830078</td>\n",
              "      <td>11493.830078</td>\n",
              "      <td>4556100000</td>\n",
              "      <td>0.019702</td>\n",
              "      <td>0.024983</td>\n",
              "      <td>0.021301</td>\n",
              "      <td>-0.030149</td>\n",
              "      <td>...</td>\n",
              "      <td>53.479254</td>\n",
              "      <td>-0.079339</td>\n",
              "      <td>0.089002</td>\n",
              "      <td>0.003598</td>\n",
              "      <td>0.996402</td>\n",
              "      <td>0.012714</td>\n",
              "      <td>0.012979</td>\n",
              "      <td>0.019991</td>\n",
              "      <td>0.017439</td>\n",
              "      <td>1.0</td>\n",
              "    </tr>\n",
              "    <tr>\n",
              "      <th>2022-09-29</th>\n",
              "      <td>11334.570312</td>\n",
              "      <td>11339.910156</td>\n",
              "      <td>11038.940430</td>\n",
              "      <td>11164.780273</td>\n",
              "      <td>11164.780273</td>\n",
              "      <td>4516630000</td>\n",
              "      <td>-0.028628</td>\n",
              "      <td>-0.008663</td>\n",
              "      <td>-0.009490</td>\n",
              "      <td>0.016103</td>\n",
              "      <td>...</td>\n",
              "      <td>54.121186</td>\n",
              "      <td>-0.095435</td>\n",
              "      <td>-0.024638</td>\n",
              "      <td>0.001120</td>\n",
              "      <td>0.998880</td>\n",
              "      <td>0.024552</td>\n",
              "      <td>0.015768</td>\n",
              "      <td>0.019405</td>\n",
              "      <td>0.018224</td>\n",
              "      <td>1.0</td>\n",
              "    </tr>\n",
              "  </tbody>\n",
              "</table>\n",
              "<p>3167 rows × 27 columns</p>\n",
              "</div>\n",
              "      <button class=\"colab-df-convert\" onclick=\"convertToInteractive('df-56386eca-3f8f-4b48-ba83-f944de275b89')\"\n",
              "              title=\"Convert this dataframe to an interactive table.\"\n",
              "              style=\"display:none;\">\n",
              "        \n",
              "  <svg xmlns=\"http://www.w3.org/2000/svg\" height=\"24px\"viewBox=\"0 0 24 24\"\n",
              "       width=\"24px\">\n",
              "    <path d=\"M0 0h24v24H0V0z\" fill=\"none\"/>\n",
              "    <path d=\"M18.56 5.44l.94 2.06.94-2.06 2.06-.94-2.06-.94-.94-2.06-.94 2.06-2.06.94zm-11 1L8.5 8.5l.94-2.06 2.06-.94-2.06-.94L8.5 2.5l-.94 2.06-2.06.94zm10 10l.94 2.06.94-2.06 2.06-.94-2.06-.94-.94-2.06-.94 2.06-2.06.94z\"/><path d=\"M17.41 7.96l-1.37-1.37c-.4-.4-.92-.59-1.43-.59-.52 0-1.04.2-1.43.59L10.3 9.45l-7.72 7.72c-.78.78-.78 2.05 0 2.83L4 21.41c.39.39.9.59 1.41.59.51 0 1.02-.2 1.41-.59l7.78-7.78 2.81-2.81c.8-.78.8-2.07 0-2.86zM5.41 20L4 18.59l7.72-7.72 1.47 1.35L5.41 20z\"/>\n",
              "  </svg>\n",
              "      </button>\n",
              "      \n",
              "  <style>\n",
              "    .colab-df-container {\n",
              "      display:flex;\n",
              "      flex-wrap:wrap;\n",
              "      gap: 12px;\n",
              "    }\n",
              "\n",
              "    .colab-df-convert {\n",
              "      background-color: #E8F0FE;\n",
              "      border: none;\n",
              "      border-radius: 50%;\n",
              "      cursor: pointer;\n",
              "      display: none;\n",
              "      fill: #1967D2;\n",
              "      height: 32px;\n",
              "      padding: 0 0 0 0;\n",
              "      width: 32px;\n",
              "    }\n",
              "\n",
              "    .colab-df-convert:hover {\n",
              "      background-color: #E2EBFA;\n",
              "      box-shadow: 0px 1px 2px rgba(60, 64, 67, 0.3), 0px 1px 3px 1px rgba(60, 64, 67, 0.15);\n",
              "      fill: #174EA6;\n",
              "    }\n",
              "\n",
              "    [theme=dark] .colab-df-convert {\n",
              "      background-color: #3B4455;\n",
              "      fill: #D2E3FC;\n",
              "    }\n",
              "\n",
              "    [theme=dark] .colab-df-convert:hover {\n",
              "      background-color: #434B5C;\n",
              "      box-shadow: 0px 1px 3px 1px rgba(0, 0, 0, 0.15);\n",
              "      filter: drop-shadow(0px 1px 2px rgba(0, 0, 0, 0.3));\n",
              "      fill: #FFFFFF;\n",
              "    }\n",
              "  </style>\n",
              "\n",
              "      <script>\n",
              "        const buttonEl =\n",
              "          document.querySelector('#df-56386eca-3f8f-4b48-ba83-f944de275b89 button.colab-df-convert');\n",
              "        buttonEl.style.display =\n",
              "          google.colab.kernel.accessAllowed ? 'block' : 'none';\n",
              "\n",
              "        async function convertToInteractive(key) {\n",
              "          const element = document.querySelector('#df-56386eca-3f8f-4b48-ba83-f944de275b89');\n",
              "          const dataTable =\n",
              "            await google.colab.kernel.invokeFunction('convertToInteractive',\n",
              "                                                     [key], {});\n",
              "          if (!dataTable) return;\n",
              "\n",
              "          const docLinkHtml = 'Like what you see? Visit the ' +\n",
              "            '<a target=\"_blank\" href=https://colab.research.google.com/notebooks/data_table.ipynb>data table notebook</a>'\n",
              "            + ' to learn more about interactive tables.';\n",
              "          element.innerHTML = '';\n",
              "          dataTable['output_type'] = 'display_data';\n",
              "          await google.colab.output.renderOutput(dataTable, element);\n",
              "          const docLink = document.createElement('div');\n",
              "          docLink.innerHTML = docLinkHtml;\n",
              "          element.appendChild(docLink);\n",
              "        }\n",
              "      </script>\n",
              "    </div>\n",
              "  </div>\n",
              "  "
            ]
          },
          "metadata": {},
          "execution_count": 15
        }
      ],
      "source": [
        "ml_df['regimes'] = ml_df['regimes'].shift(-1) \n",
        "ml_df.dropna(inplace=True)\n",
        "ml_df"
      ]
    },
    {
      "cell_type": "code",
      "execution_count": 16,
      "id": "97629e8b",
      "metadata": {
        "id": "97629e8b"
      },
      "outputs": [],
      "source": [
        "rf_df = ml_df.copy()\n",
        "labels = rf_df.pop('regimes') # get target states into a variable\n",
        "labels = labels.astype('int')"
      ]
    },
    {
      "cell_type": "markdown",
      "id": "41f0cf5e",
      "metadata": {
        "id": "41f0cf5e"
      },
      "source": [
        "-----\n",
        "Splitting the dataset into training and testing. Rebalancing the dataset by undersampling the smallest prediction category which is the low variance regime return."
      ]
    },
    {
      "cell_type": "code",
      "execution_count": 17,
      "id": "2c706c71",
      "metadata": {
        "colab": {
          "base_uri": "https://localhost:8080/"
        },
        "id": "2c706c71",
        "outputId": "051b6fd9-2637-44d1-a9b6-c0e20a71ab41"
      },
      "outputs": [
        {
          "output_type": "execute_result",
          "data": {
            "text/plain": [
              "Counter({0: 1787, 1: 746})"
            ]
          },
          "metadata": {},
          "execution_count": 17
        }
      ],
      "source": [
        "X_train, X_test, y_train, y_test = train_test_split(rf_df, labels, test_size=0.2)\n",
        "Counter(y_train)"
      ]
    },
    {
      "cell_type": "code",
      "execution_count": 18,
      "id": "a595bfc6",
      "metadata": {
        "id": "a595bfc6"
      },
      "outputs": [],
      "source": [
        "# undersample our low_variance regime examples\n",
        "under_sampler = RandomUnderSampler(random_state=40)\n",
        "X_rs, y_rs = under_sampler.fit_resample(X_train, y_train)"
      ]
    },
    {
      "cell_type": "code",
      "execution_count": 19,
      "id": "e70a8fa0",
      "metadata": {
        "scrolled": true,
        "colab": {
          "base_uri": "https://localhost:8080/"
        },
        "id": "e70a8fa0",
        "outputId": "7b969cb1-3e07-476b-e85a-6fc42efbd723"
      },
      "outputs": [
        {
          "output_type": "execute_result",
          "data": {
            "text/plain": [
              "Counter({0: 746, 1: 746})"
            ]
          },
          "metadata": {},
          "execution_count": 19
        }
      ],
      "source": [
        "Counter(y_rs)"
      ]
    },
    {
      "cell_type": "markdown",
      "id": "c8a7e508",
      "metadata": {
        "id": "c8a7e508"
      },
      "source": [
        "------\n",
        "Initializing and fitting the random forest classifier with 20 trees in the forest."
      ]
    },
    {
      "cell_type": "code",
      "execution_count": 20,
      "id": "1a77bf28",
      "metadata": {
        "colab": {
          "base_uri": "https://localhost:8080/"
        },
        "id": "1a77bf28",
        "outputId": "257c5c72-9981-42f3-ed43-00e5e2a18dbb"
      },
      "outputs": [
        {
          "output_type": "execute_result",
          "data": {
            "text/plain": [
              "RandomForestClassifier(n_estimators=20)"
            ]
          },
          "metadata": {},
          "execution_count": 20
        }
      ],
      "source": [
        "rf = RandomForestClassifier(n_estimators=20)\n",
        "rf.fit(X_rs, y_rs)"
      ]
    },
    {
      "cell_type": "markdown",
      "id": "2f43535f",
      "metadata": {
        "id": "2f43535f"
      },
      "source": [
        "-----\n",
        "Making predictions on the testing dataset. Two predictions are retrieved, the binary predicted state and the probabilistic state prediction."
      ]
    },
    {
      "cell_type": "code",
      "execution_count": 21,
      "id": "2bc4b98e",
      "metadata": {
        "id": "2bc4b98e"
      },
      "outputs": [],
      "source": [
        "y_pred = rf.predict(X_test)\n",
        "y_prob_pred = rf.predict_proba(X_test)"
      ]
    },
    {
      "cell_type": "markdown",
      "id": "b71150e4",
      "metadata": {
        "id": "b71150e4"
      },
      "source": [
        "-----\n",
        "Assessing the models accuracy using an accuracy score, area under curve, false positive rate and true positive rate."
      ]
    },
    {
      "cell_type": "code",
      "execution_count": 22,
      "id": "26ae7b50",
      "metadata": {
        "scrolled": true,
        "colab": {
          "base_uri": "https://localhost:8080/"
        },
        "id": "26ae7b50",
        "outputId": "a154f2fa-5b02-47e7-9ee7-7a70f197a1f7"
      },
      "outputs": [
        {
          "output_type": "stream",
          "name": "stdout",
          "text": [
            "accuracy_score= 0.9905362776025236 roc_auc= 0.9934210526315789 FPR= 0.013157894736842105 TPR= 1.0\n"
          ]
        }
      ],
      "source": [
        "acc_score = accuracy_score(y_test, y_pred)\n",
        "false_positive_rate, true_positive_rate, thresholds = roc_curve(y_test, y_pred)\n",
        "roc_auc = auc(false_positive_rate, true_positive_rate)\n",
        "print('accuracy_score=', acc_score,'roc_auc=', roc_auc, 'FPR=', false_positive_rate[1],  'TPR=', true_positive_rate[1])"
      ]
    },
    {
      "cell_type": "markdown",
      "source": [
        "On the testing set (unseen data), our model has achieved a true positive rate of 99.05% meaning that over 99% of actual high variance regimes in the next period were correctly predicted as high variance regimes. The model presented with a 0.013% false positive rate, meaning that 0.013% of actual low variance regimes in the next period were incorrectly predicted as high variance regimes. To get a view of overall accuracy we can compute the area under the curve (AUC). Our model has an AUC of 99.05%, meaning that the model is able to distinguish between high and low variance regimes 99.05% of the time. Alternatively we can also use an accuracy score computation. All metrics would suggest a model with a high degree of accuracy and low prediction error, providing a satisfactory result for this use case."
      ],
      "metadata": {
        "id": "jvmEyZssyXmM"
      },
      "id": "jvmEyZssyXmM"
    },
    {
      "cell_type": "markdown",
      "id": "af360b88",
      "metadata": {
        "id": "af360b88"
      },
      "source": [
        "--------\n",
        "Checking the impact of different size random forests on model accuracy to determine the optimal number of forests to initialize the classifier with."
      ]
    },
    {
      "cell_type": "code",
      "execution_count": 23,
      "id": "44bc2dda",
      "metadata": {
        "colab": {
          "base_uri": "https://localhost:8080/",
          "height": 298
        },
        "id": "44bc2dda",
        "outputId": "57c9f426-d7fc-4ef8-f0cb-ca297bea6e66"
      },
      "outputs": [
        {
          "output_type": "display_data",
          "data": {
            "text/plain": [
              "<Figure size 432x288 with 1 Axes>"
            ],
            "image/png": "[encoded data removed]"
          },
          "metadata": {}
        }
      ],
      "source": [
        "n_estimators = [1, 2, 4, 8, 16, 32, 64, 100, 110, 120, 130, 140, 150, 160]\n",
        "train_results = []\n",
        "test_results = []\n",
        "\n",
        "for estimator in n_estimators:\n",
        "    rf = RandomForestClassifier(n_estimators=estimator)\n",
        "    rf.fit(X_rs, y_rs)\n",
        "    train_pred = rf.predict(X_rs)\n",
        "    false_positive_rate, true_positive_rate, thresholds = roc_curve(y_rs, train_pred)\n",
        "    roc_auc = auc(false_positive_rate, true_positive_rate)\n",
        "    train_results.append(roc_auc)\n",
        "    y_pred = rf.predict(X_test)\n",
        "    false_positive_rate, true_positive_rate, thresholds = roc_curve(y_test, y_pred)\n",
        "    roc_auc = auc(false_positive_rate, true_positive_rate)\n",
        "    test_results.append(roc_auc)\n",
        "\n",
        "from matplotlib.legend_handler import HandlerLine2D\n",
        "line1, = plt.plot(n_estimators, train_results, \"b\", label=\"Train AUC\")\n",
        "line2, = plt.plot(n_estimators, test_results, \"r\", label=\"Test AUC\")\n",
        "plt.legend(handler_map={line1: HandlerLine2D(numpoints=2)})\n",
        "plt.ylabel(\"AUC score\")\n",
        "plt.xlabel(\"n_estimators\")\n",
        "plt.grid(False)\n",
        "plt.show()"
      ]
    },
    {
      "cell_type": "markdown",
      "id": "313b6698",
      "metadata": {
        "id": "313b6698"
      },
      "source": [
        "------\n",
        "Analyzing the permutation importance of the features provided to the model."
      ]
    },
    {
      "cell_type": "code",
      "execution_count": 24,
      "id": "269d5ad0",
      "metadata": {
        "colab": {
          "base_uri": "https://localhost:8080/"
        },
        "id": "269d5ad0",
        "outputId": "666204ee-56d1-4f89-9c90-c1a2ce66a40a"
      },
      "outputs": [
        {
          "output_type": "execute_result",
          "data": {
            "text/plain": [
              "RandomForestClassifier(n_estimators=20)"
            ]
          },
          "metadata": {},
          "execution_count": 24
        }
      ],
      "source": [
        "rf = RandomForestClassifier(n_estimators=20)\n",
        "rf.fit(X_rs, y_rs)"
      ]
    },
    {
      "cell_type": "code",
      "execution_count": 25,
      "id": "9b40eaba",
      "metadata": {
        "scrolled": true,
        "id": "9b40eaba"
      },
      "outputs": [],
      "source": [
        "results = permutation_importance(rf, X_rs, y_rs, scoring='accuracy')"
      ]
    },
    {
      "cell_type": "code",
      "execution_count": 26,
      "id": "8370ffad",
      "metadata": {
        "scrolled": false,
        "colab": {
          "base_uri": "https://localhost:8080/",
          "height": 727
        },
        "id": "8370ffad",
        "outputId": "bef24fd0-835e-4acb-df02-76f47bc0e52f"
      },
      "outputs": [
        {
          "output_type": "stream",
          "name": "stdout",
          "text": [
            "Feature: 0, Score: 0.00000\n",
            "Feature: 1, Score: 0.00040\n",
            "Feature: 2, Score: 0.00000\n",
            "Feature: 3, Score: 0.00027\n",
            "Feature: 4, Score: 0.00000\n",
            "Feature: 5, Score: 0.00080\n",
            "Feature: 6, Score: 0.00121\n",
            "Feature: 7, Score: 0.00000\n",
            "Feature: 8, Score: 0.00080\n",
            "Feature: 9, Score: 0.00000\n",
            "Feature: 10, Score: 0.00000\n",
            "Feature: 11, Score: 0.00067\n",
            "Feature: 12, Score: 0.00000\n",
            "Feature: 13, Score: 0.00000\n",
            "Feature: 14, Score: 0.00000\n",
            "Feature: 15, Score: 0.00000\n",
            "Feature: 16, Score: 0.00121\n",
            "Feature: 17, Score: 0.00000\n",
            "Feature: 18, Score: 0.00000\n",
            "Feature: 19, Score: 0.00000\n",
            "Feature: 20, Score: 0.43432\n",
            "Feature: 21, Score: 0.20027\n",
            "Feature: 22, Score: 0.00000\n",
            "Feature: 23, Score: 0.00080\n",
            "Feature: 24, Score: 0.00255\n",
            "Feature: 25, Score: 0.00027\n"
          ]
        },
        {
          "output_type": "display_data",
          "data": {
            "text/plain": [
              "<Figure size 432x288 with 1 Axes>"
            ],
            "image/png": "[encoded data removed]"
          },
          "metadata": {}
        }
      ],
      "source": [
        "importance = results.importances_mean\n",
        "\n",
        "for i,v in enumerate(importance):\n",
        "    print('Feature: %0d, Score: %.5f' % (i,v))\n",
        "\n",
        "plt.bar([x for x in range(len(importance))], importance)\n",
        "plt.grid(False)\n",
        "plt.show()"
      ]
    },
    {
      "cell_type": "code",
      "execution_count": 27,
      "id": "55cbae18",
      "metadata": {
        "colab": {
          "base_uri": "https://localhost:8080/",
          "height": 35
        },
        "id": "55cbae18",
        "outputId": "71da9c03-a07b-47cd-e439-08db12baa3a0"
      },
      "outputs": [
        {
          "output_type": "execute_result",
          "data": {
            "text/plain": [
              "'Volt_21_Value'"
            ],
            "application/vnd.google.colaboratory.intrinsic+json": {
              "type": "string"
            }
          },
          "metadata": {},
          "execution_count": 27
        }
      ],
      "source": [
        "ml_df.columns[25]"
      ]
    }
  ],
  "metadata": {
    "kernelspec": {
      "display_name": "Python 3 (ipykernel)",
      "language": "python",
      "name": "python3"
    },
    "language_info": {
      "codemirror_mode": {
        "name": "ipython",
        "version": 3
      },
      "file_extension": ".py",
      "mimetype": "text/x-python",
      "name": "python",
      "nbconvert_exporter": "python",
      "pygments_lexer": "ipython3",
      "version": "3.9.7"
    },
    "colab": {
      "provenance": [],
      "collapsed_sections": []
    }
  },
  "nbformat": 4,
  "nbformat_minor": 5
}